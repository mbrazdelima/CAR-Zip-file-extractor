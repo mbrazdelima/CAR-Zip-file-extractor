{
 "cells": [
  {
   "cell_type": "code",
   "execution_count": 65,
   "metadata": {},
   "outputs": [
    {
     "ename": "SyntaxError",
     "evalue": "invalid syntax (<ipython-input-65-e8388e8f21d2>, line 20)",
     "output_type": "error",
     "traceback": [
      "\u001b[1;36m  File \u001b[1;32m\"<ipython-input-65-e8388e8f21d2>\"\u001b[1;36m, line \u001b[1;32m20\u001b[0m\n\u001b[1;33m    fantasy_zip = zipfile.ZipFile(r'C:\\Users\\EAML00133972\\Desktop\\{}\\{}.zip'.format(i, j))\u001b[0m\n\u001b[1;37m              ^\u001b[0m\n\u001b[1;31mSyntaxError\u001b[0m\u001b[1;31m:\u001b[0m invalid syntax\n"
     ]
    }
   ],
   "source": [
    "import zipfile\n",
    "from pathlib import Path     \n",
    "import os \n",
    "from glob import glob\n",
    "municipios = list()\n",
    "for i in glob(r'C:\\Users\\EAML00133972\\Desktop\\municipios/*.zip'):\n",
    "    municipios.append(i[41:54])\n",
    "\n",
    "lista = ['AREA_ALTITUDE_SUPERIOR_1800', 'NASCENTE_OLHO_DAGUA', 'AREA_CONSOLIDADA', 'RESERVA_LEGAL',\n",
    "             'AREA_DECLIVIDADE_MAIOR_45','RESTINGA','AREA_IMOVEL','SERVIDAO_ADMINISTRATIVA',\n",
    "             'AREA_POUSIO','USO_RESTRITO','AREA_TOPO_MORRO', 'VEGETACAO_NATIVA', 'BANHADO', 'VEREDA',\n",
    "             'BORDA_CHAPADA','HIDROGRAFIA', 'MANGUEZAL', 'APP']\n",
    "for i in municipios:\n",
    "    os.mkdir(r'C:\\Users\\EAML00133972\\Desktop\\{}'.format(i))\n",
    "    fantasy_zip = zipfile.ZipFile(r'C:\\Users\\EAML00133972\\Desktop\\municipios\\{}.zip'.format(i))\n",
    "    fantasy_zip.extractall(r'C:\\Users\\EAML00133972\\Desktop\\{}'.format(i))\n",
    "    fantasy_zip.close()\n",
    "    for j in lista:\n",
    "        os.mkdir(r'C:\\Users\\EAML00133972\\Desktop\\{}\\{}'.format(i, j)\n",
    "        fantasy_zip = zipfile.ZipFile(r'C:\\Users\\EAML00133972\\Desktop\\{}\\{}.zip'.format(i, j))\n",
    "        fantasy_zip.extractall(r'C:\\Users\\EAML00133972\\Desktop\\{}\\{}'.format(i, j))\n",
    "        fantasy_zip.close()"
   ]
  },
  {
   "cell_type": "code",
   "execution_count": null,
   "metadata": {},
   "outputs": [],
   "source": []
  },
  {
   "cell_type": "code",
   "execution_count": null,
   "metadata": {},
   "outputs": [],
   "source": []
  }
 ],
 "metadata": {
  "kernelspec": {
   "display_name": "Python 3",
   "language": "python",
   "name": "python3"
  },
  "language_info": {
   "codemirror_mode": {
    "name": "ipython",
    "version": 3
   },
   "file_extension": ".py",
   "mimetype": "text/x-python",
   "name": "python",
   "nbconvert_exporter": "python",
   "pygments_lexer": "ipython3",
   "version": "3.7.3"
  }
 },
 "nbformat": 4,
 "nbformat_minor": 2
}
