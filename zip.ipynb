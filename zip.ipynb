{
 "cells": [
  {
   "cell_type": "code",
   "execution_count": 6,
   "metadata": {},
   "outputs": [
    {
     "name": "stdout",
     "output_type": "stream",
     "text": [
      "AREA_ALTITUDE_SUPERIOR_1800\n",
      "NASCENTE_OLHO_DAGUA\n",
      "AREA_CONSOLIDADA\n",
      "RESERVA_LEGAL\n",
      "AREA_DECLIVIDADE_MAIOR_45\n",
      "RESTINGA\n",
      "AREA_IMOVEL\n",
      "SERVIDAO_ADMINISTRATIVA\n",
      "AREA_POUSIO\n",
      "USO_RESTRITO\n",
      "AREA_TOPO_MORRO\n",
      "VEGETACAO_NATIVA\n",
      "BANHADO\n",
      "VEREDA\n",
      "BORDA_CHAPADA\n",
      "HIDROGRAFIA\n",
      "MANGUEZAL\n",
      "APP\n"
     ]
    }
   ],
   "source": [
    "import zipfile\n",
    "from pathlib import Path     \n",
    "\n",
    "fantasy_zip = zipfile.ZipFile(r'C:\\Users\\EAML00133972\\Desktop\\SHAPE_4216057\\SHAPE_4216057.zip')\n",
    "fantasy_zip.extractall(r'C:\\Users\\EAML00133972\\Desktop\\SHAPE_4216057')\n",
    "lista = ['AREA_ALTITUDE_SUPERIOR_1800', 'NASCENTE_OLHO_DAGUA', 'AREA_CONSOLIDADA', 'RESERVA_LEGAL',\n",
    "         'AREA_DECLIVIDADE_MAIOR_45','RESTINGA','AREA_IMOVEL','SERVIDAO_ADMINISTRATIVA',\n",
    "         'AREA_POUSIO','USO_RESTRITO','AREA_TOPO_MORRO', 'VEGETACAO_NATIVA', 'BANHADO', 'VEREDA',\n",
    "         'BORDA_CHAPADA','HIDROGRAFIA', 'MANGUEZAL', 'APP']\n",
    "fantasy_zip.close()\n",
    "for i in lista:\n",
    "    desktop = Path.home() / \"Desktop\"\n",
    "    desktop.mkdir(\"\")\n",
    "    fantasy_zip = zipfile.ZipFile(r'C:\\Users\\EAML00133972\\Desktop\\SHAPE_4216057\\{}.zip'.format(i))\n",
    "    fantasy_zip.extractall(r'C:\\Users\\EAML00133972\\Desktop\\SHAPE_4216057')\n",
    "    fantasy_zip.close()"
   ]
  },
  {
   "cell_type": "code",
   "execution_count": null,
   "metadata": {},
   "outputs": [],
   "source": []
  }
 ],
 "metadata": {
  "kernelspec": {
   "display_name": "Python 3",
   "language": "python",
   "name": "python3"
  },
  "language_info": {
   "codemirror_mode": {
    "name": "ipython",
    "version": 3
   },
   "file_extension": ".py",
   "mimetype": "text/x-python",
   "name": "python",
   "nbconvert_exporter": "python",
   "pygments_lexer": "ipython3",
   "version": "3.7.3"
  }
 },
 "nbformat": 4,
 "nbformat_minor": 2
}
