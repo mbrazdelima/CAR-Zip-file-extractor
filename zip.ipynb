{
 "cells": [
  {
   "cell_type": "code",
   "execution_count": 3,
   "metadata": {},
   "outputs": [],
   "source": [
    "import zipfile\n",
    "         \n",
    "fantasy_zip = zipfile.ZipFile(r'C:\\Users\\EAML00133972\\Downloads\\SHAPE_154848458.zip')\n",
    "fantasy_zip.extractall(r'C:\\Users\\EAML00133972\\Desktop')\n",
    "lista = ['lista LORENA'] \n",
    "for i lista:\n",
    "    fantasy_zip = zipfile.ZipFile(r'C:\\Users\\EAML00133972\\Downloads\\{}.zip'.format(i))\n",
    "    fantasy_zip.extractall(r'C:\\Users\\EAML00133972\\Desktop')\n",
    "fantasy_zip.close()"
   ]
  },
  {
   "cell_type": "code",
   "execution_count": null,
   "metadata": {},
   "outputs": [],
   "source": []
  }
 ],
 "metadata": {
  "kernelspec": {
   "display_name": "Python 3",
   "language": "python",
   "name": "python3"
  },
  "language_info": {
   "codemirror_mode": {
    "name": "ipython",
    "version": 3
   },
   "file_extension": ".py",
   "mimetype": "text/x-python",
   "name": "python",
   "nbconvert_exporter": "python",
   "pygments_lexer": "ipython3",
   "version": "3.7.3"
  }
 },
 "nbformat": 4,
 "nbformat_minor": 2
}
